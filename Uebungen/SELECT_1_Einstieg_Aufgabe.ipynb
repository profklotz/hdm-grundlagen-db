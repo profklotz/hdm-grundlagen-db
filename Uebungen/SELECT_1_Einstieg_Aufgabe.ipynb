{
  "nbformat": 4,
  "nbformat_minor": 0,
  "metadata": {
    "colab": {
      "name": "SELECT-1-Einstieg_Aufgabe.ipynb",
      "provenance": [],
      "collapsed_sections": []
    },
    "kernelspec": {
      "name": "python3",
      "display_name": "Python 3"
    },
    "language_info": {
      "name": "python"
    }
  },
  "cells": [
    {
      "cell_type": "markdown",
      "metadata": {
        "id": "edTUEPKNT2BO"
      },
      "source": [
        "**Der SELECT - Befehl**\n",
        "\n",
        "Allgemeine Syntax:\n",
        "\n",
        "\n",
        "---\n",
        "**SELECT**\n",
        "\n",
        "\t<Liste der gewünschten Spalte(n) und Berechnung(en) oder * für alle Spalten>\n",
        "**FROM**\t\t\n",
        "\n",
        "\t<Tabelle(n) oder View(s)>\n",
        "**WHERE**\t\t\n",
        "\n",
        "\t<Bedingung(en) für einzelne Datensätze>\n",
        "**GROUP BY**\t\n",
        "\n",
        "\t<Spalte(n) für Gruppierung>\n",
        "**HAVING**\t \n",
        "\n",
        "\t<Filterbedingung(en) für Gruppen>\n",
        "\n",
        "**ORDER BY**\t\n",
        "\n",
        "\t<Sortierungmerkmal(e)>\n",
        "\n",
        "Viele Bestandteile des SELECT-Befehls sind optional, d.h. sie müssen nicht unbedingt vorhanden sein. Fehlt z.B. der\n",
        "ORDER BY Zusatz, so werden die Datensätze nicht nach einer bestimmten Reihenfolge sortiert.\n",
        "\n",
        "\n",
        "\n"
      ]
    },
    {
      "cell_type": "code",
      "metadata": {
        "id": "JXQW_NPEDmLl"
      },
      "source": [
        "import sys\n",
        "!{sys.executable} -m pip install ipython-sql > /dev/null\n",
        "%reload_ext sql\n",
        "%sql sqlite:///../Material/countries.db"
      ],
      "execution_count": null,
      "outputs": []
    },
    {
      "cell_type": "markdown",
      "metadata": {
        "id": "MK1swmNyUNzL"
      },
      "source": [
        "Der einfachste mögliche SELECT-Befehl liefert nur eine Konstante zurück. Der Einsatzzweck dieses Befehls ist jedoch\n",
        "eher begrenzt."
      ]
    },
    {
      "cell_type": "code",
      "metadata": {
        "id": "z6kMtuMwTpIi"
      },
      "source": [
        "%%sql\n"
      ],
      "execution_count": null,
      "outputs": []
    },
    {
      "cell_type": "markdown",
      "metadata": {
        "id": "gG6VpxOdUmKR"
      },
      "source": [
        "Der SELECT-Befehl liefer immer eine Menge von Tupeln zurück. Man kann also demnach auch mehrere Konstanten in die\n",
        "gewünschte Werteliste aufnehmen, zum Beispiel:"
      ]
    },
    {
      "cell_type": "code",
      "metadata": {
        "id": "FasEmd7BUpbN"
      },
      "source": [
        "%%sql\n"
      ],
      "execution_count": null,
      "outputs": []
    },
    {
      "cell_type": "markdown",
      "metadata": {
        "id": "kCXmWk2gUv5B"
      },
      "source": [
        "Ebenso kann man Berechnungen durchführen oder Funktionen nutzen - dazu aber später mehr. Hier nur ein kurzes\n",
        "Beispiel mit der RANDOM-Funktion, welche eine Zufallszahl erzeugt"
      ]
    },
    {
      "cell_type": "code",
      "metadata": {
        "id": "M2SRMXPZU1Jz"
      },
      "source": [
        "%%sql\n"
      ],
      "execution_count": null,
      "outputs": []
    },
    {
      "cell_type": "markdown",
      "metadata": {
        "id": "POmK1qxbU6AL"
      },
      "source": [
        " Zudem sei noch erwähnt, dass man für jedes Attribut der Ergebnistupel einen Alias vergeben kann - das ist ein\n",
        "Name für das Attribut. Nehmen wir noch einmal den vorherigen Befehl: das erste Attribut hieß dort \"75 + 107\", was\n",
        "kein sonderlich guter Name für verarbeitende Programme ist. Hier macht daher ein Alias Sinn. Diese werden vergeben,\n",
        "indem das Schlüsselwort AS und der Name des Attributs hinzugefügt werden:"
      ]
    },
    {
      "cell_type": "code",
      "metadata": {
        "id": "_nUIlZCxU-Xm"
      },
      "source": [
        "%%sql\n"
      ],
      "execution_count": null,
      "outputs": []
    },
    {
      "cell_type": "markdown",
      "metadata": {
        "id": "SWTPcB6WVIkp"
      },
      "source": [
        "Zuletzt noch der Hinweis, dass die Ergebnismengen (wie mathematische Mengen) beliebig viele Datensätze besitzen\n",
        "können. Zum Beispiel kann man mit dem UNION ALL Befehl die Ergebnisse mehrerer Abfragen an die Ergebnismenge\n",
        "anfügen:"
      ]
    },
    {
      "cell_type": "code",
      "metadata": {
        "id": "8vAqrfTHVLTP"
      },
      "source": [
        "%%sql\n"
      ],
      "execution_count": null,
      "outputs": []
    },
    {
      "cell_type": "markdown",
      "metadata": {
        "id": "F2NqRVWUVT7s"
      },
      "source": [
        "Auch eine leere Ergebnismenge ist möglich, wenn keine Datensätze gefunden werden. Im nachfolgenden Beispiel wird\n",
        "eine leere Ergebnismenge erzwungen, da die WHERE Bedingung niemals erfüllt ist (mehr zu WHERE in Kürze):"
      ]
    },
    {
      "cell_type": "code",
      "metadata": {
        "id": "MPUO1Mh8VWgg"
      },
      "source": [
        "%%sql\n"
      ],
      "execution_count": null,
      "outputs": []
    },
    {
      "cell_type": "markdown",
      "metadata": {
        "id": "HeC3oWjuVesw"
      },
      "source": [
        "**COUNTRY ÜBUNG**\n",
        "\n",
        "So weit, so gut. Nun wollen wir mit den Daten in unserer Länder-Datenbank arbeiten. Wir beginnen damit, uns die\n",
        "gesamte Tabelle \"countries\" anzeigen zu lassen, d.h. alle Attribute und alle Datensätze. Glücklicherweise gibt es\n",
        "eine Kurzschreibweise für die Anzeige aller Attribute, so dass man nicht die vollständige Liste aller Attribute\n",
        "abtippen muss. Stattdessen kann man das * Symbol verwenden (Asterisk, oder auch \"Sternchen\")."
      ]
    },
    {
      "cell_type": "code",
      "metadata": {
        "id": "MD0t-6_LViZ4"
      },
      "source": [
        "%%sql\n"
      ],
      "execution_count": null,
      "outputs": []
    },
    {
      "cell_type": "markdown",
      "metadata": {
        "id": "OT0XXNalVmKI"
      },
      "source": [
        "Nun verwenden wir eine Funktion: Mittels COUNT kann man zählen, wie viele Werte vorhanden sind. Technisch gesehen bedeutet dies, dass die Anzahl der Werte gezählt wird, die nicht NULL sind. Die Anzahl der vorhandenen Datensätze in der Tabelle\n",
        "ermitteln wir also folgendermaßen:"
      ]
    },
    {
      "cell_type": "code",
      "metadata": {
        "id": "LljLC_c-Vpmu"
      },
      "source": [
        "%%sql\n"
      ],
      "execution_count": null,
      "outputs": []
    },
    {
      "cell_type": "markdown",
      "metadata": {
        "id": "PirTtmpdVvfz"
      },
      "source": [
        "Man kann mit COUNT auch bestimmte Attribute zählen. Zum Beispiel haben einige Datensätze einen NULL-Wert für das\n",
        "Attribut \"Climate\" - wie dieser Befehl zeigt (die Anzahl ist kleiner als die der Datensätze in der Tabelle):"
      ]
    },
    {
      "cell_type": "code",
      "metadata": {
        "id": "tw7gElqRVx3g"
      },
      "source": [
        "%%sql\n"
      ],
      "execution_count": null,
      "outputs": []
    },
    {
      "cell_type": "markdown",
      "metadata": {
        "id": "aQJKn81qV8Q4"
      },
      "source": [
        "Jetzt wollen wir alle Attribute eines bestimmten Datensatzes anzeigen. Die Ergebnismenge wird über das Schlüsselwort\n",
        "WHERE eingeschränkt. Das DBMS prüft für jede Zeile der Ergebnismenge, ob die WHERE-Bedingung erfüllt ist und falls\n",
        "nicht, wird der Datensatz herausgefiltert. Auf diese Weise können wir ganz bestimmte Datensätze anzeigen, wie zum\n",
        "Beispiel die Attribute für das Land \"Portugal\" (bitte Groß- und Kleinschreibung genau beachten - Strings!)."
      ]
    },
    {
      "cell_type": "code",
      "metadata": {
        "id": "lTJnEXfIWABB"
      },
      "source": [
        "%%sql\n"
      ],
      "execution_count": null,
      "outputs": []
    },
    {
      "cell_type": "markdown",
      "metadata": {
        "id": "jMBomGYgWFyF"
      },
      "source": [
        "Anstelle aller Attribute können wir nun auch etwas spezifischer nach bestimmten Attributen fragen. Wir geben die\n",
        "gewünschte Attributliste anstelle des Asterisk an. Zum Beispiel wird hier nur der Name des Landes und das GDP für\n",
        "Norwegen ermittelt:"
      ]
    },
    {
      "cell_type": "code",
      "metadata": {
        "id": "G4s1SUmxWJO_"
      },
      "source": [
        "%%sql\n"
      ],
      "execution_count": null,
      "outputs": []
    },
    {
      "cell_type": "markdown",
      "metadata": {
        "id": "7-Mn0mtwWR0G"
      },
      "source": [
        "**AUFGABE:** \n",
        "\n",
        "Lesen Sie den Namen und die Landfläche (Area) aller Länder der Region \"NEAR EAST\" (!) heraus."
      ]
    },
    {
      "cell_type": "code",
      "metadata": {
        "id": "kiesuWM3WWwR"
      },
      "source": [
        "%%sql\n"
      ],
      "execution_count": null,
      "outputs": []
    },
    {
      "cell_type": "markdown",
      "metadata": {
        "id": "aIzLX_UUWlTy"
      },
      "source": [
        "WHERE-Bedingungen müssen nicht nur auf Gleichheit prüfen. Es gibt eine Reihe weiterer Operatoren (z.B. < und >) und\n",
        "mehrere Bedingungen können logisch verknüpft werden (AND und OR). Für Text gibt es zudem die Möglichkeit, über LIKE\n",
        "auf bestimmte Muster hin zu prüfen. Die folgende Abfrage findet z.B. alle Länder, die mit \"G\" beginnen:"
      ]
    },
    {
      "cell_type": "code",
      "metadata": {
        "id": "xRh8sKccWotw"
      },
      "source": [
        "%%sql\n"
      ],
      "execution_count": null,
      "outputs": []
    },
    {
      "cell_type": "markdown",
      "metadata": {
        "id": "794u-M98Wv2p"
      },
      "source": [
        "Und diese Abfrage nutzt den Größer-Operator, um alle Länder anzuzeigen, die eine Küste haben, d.h. für die das\n",
        "Attribut \"Coastline\" größer als Null (0) ist."
      ]
    },
    {
      "cell_type": "code",
      "metadata": {
        "id": "OEYAsjWsW0J8"
      },
      "source": [
        "%%sql\n"
      ],
      "execution_count": null,
      "outputs": []
    },
    {
      "cell_type": "markdown",
      "metadata": {
        "id": "zqQhre63W9Nz"
      },
      "source": [
        "**BONUS: **\n",
        "\n",
        "Ermitteln Sie den prozentualen Anteil der Länder mit Küste, im Verhältnis zur Gesamtzahl der Länder (in einer\n",
        "einzigen Abfrage)."
      ]
    },
    {
      "cell_type": "code",
      "metadata": {
        "id": "Z3QBPWuyXD3R"
      },
      "source": [
        "%%sql\n"
      ],
      "execution_count": null,
      "outputs": []
    },
    {
      "cell_type": "markdown",
      "metadata": {
        "id": "dnM4Uqs8XLRG"
      },
      "source": [
        "Falls Sie keine explizite Vorgabe für die Sortierung der Ergebnismenge mittels ORDER BY machen, ist die Ergebnismenge\n",
        "in SQL **nicht** stabil sortiert, sondern zufällig. Das bedeutet, es gibt keine Garantie, dass Ergebnisse immer in\n",
        "einer bestimmten Reihenfolge kommen. Sollte die Reihenfolge für Ihren Anwendungszweck von Bedeutung sein, so müssen\n",
        "Sie immer eine explizite Sortiervorgabe machen. Hierfür nutzen wir ORDER BY, welche gefolgt wird von der oder den\n",
        "Spalte(n), die für die Sortierung verwendet werden sollen. Nachfolgend kann über die Schlüsselworte ASC (ascending)\n",
        "oder DESC (decending) bestimmt werden, ob aufsteigend (Standard, ASC muss daher nicht angegeben werden) oder absteigend sortiert werden soll. Mittels LIMIT können wir zudem die Ergebnismenge beschränken, d.h. das DBMS beendetdie Abfrage, sobald die vorgegebene Anzahl an Datensätzen in der Ergebismenge erreicht ist. Das ist insbesondere bei\n",
        "großen Tabellen sehr hilfreich. Beispiel: Die 10 größten Länder per Einwohner ermitteln wir so:"
      ]
    },
    {
      "cell_type": "code",
      "metadata": {
        "id": "HtwooWuTXRzs"
      },
      "source": [
        "%%sql\n"
      ],
      "execution_count": null,
      "outputs": []
    },
    {
      "cell_type": "markdown",
      "metadata": {
        "id": "DawMqKiiXcJl"
      },
      "source": [
        "Wollen wir nicht vom Anfang der Ergebnisliste die ersten 10 Datensätze, sondern von einer Stelle in der Mitte, so ist\n",
        "dies auch möglich mithilfe des zusätzlichen Schlüsselworts OFFSET. Damit kann man eine Anzahl von Datensätzen angeben, die sozusagen \"übersprungen\" werden soll, bis das DBMS Ergebnisse zurückliefert. Wollen wir also nun die\n",
        "zehn nächstgrößten Länder ermitteln (also die Datensätze #11 - #20 in der eigentlichen Query), dann machen wir das\n",
        "folgendermaßen:"
      ]
    },
    {
      "cell_type": "code",
      "metadata": {
        "id": "kZ4B2jOZXhUh"
      },
      "source": [
        "%%sql\n"
      ],
      "execution_count": null,
      "outputs": []
    },
    {
      "cell_type": "markdown",
      "metadata": {
        "id": "q_nuL-8OXr2w"
      },
      "source": [
        "**WEITERE AUFGABEN**: \n",
        "\n",
        "Ermitteln Sie die Länder auf Rang #11 - #15 in der Rangliste der größten Länder Westeuropas, nach ihrer\n",
        "Landfläche. Hinweis: Die Region heißt \"WESTERN EUROPE\"."
      ]
    },
    {
      "cell_type": "code",
      "metadata": {
        "id": "b2DirevfXvjI"
      },
      "source": [
        "%%sql\n"
      ],
      "execution_count": null,
      "outputs": []
    },
    {
      "cell_type": "markdown",
      "metadata": {
        "id": "UhjY_DIgX2Ax"
      },
      "source": [
        "Eine weitere, äußerst hilfreiche Funktion ist die DISTINCT-Funktion. Diese ermittelt, welche unterschiedlichen\n",
        "Werte in einem bestimmten Attribut (oder einer Attributgruppe) enthalten sind. Mehrfach vorhandene Werte werden\n",
        "somit nur einmal in die Ergebnismenge aufgenommen. Damit können wir zum Beispiel ermitteln, welche unterschiedlichen\n",
        "Regionen in unserer Tabelle vorhanden sind:"
      ]
    },
    {
      "cell_type": "code",
      "metadata": {
        "id": "BOqU9KMGX5vR"
      },
      "source": [
        "%%sql\n"
      ],
      "execution_count": null,
      "outputs": []
    },
    {
      "cell_type": "markdown",
      "metadata": {
        "id": "qXIiPDs6X-fA"
      },
      "source": [
        "Arbeitet man mit umfangreichen Daten, so braucht man häufig auch Zwischensummen oder andere Zwischenfunktionen, die\n",
        "man auf eine Reihe zusammengehörender Datensätze anwenden will (z.B. Durchschnittswerte oder das einfache Zählen der\n",
        "vorhandenen Datensätze in der jeweiligen Gruppe). Solche Funktionen, die man auf mehrere Datensätze anwenden kann,\n",
        "heißen Aggregatsfunktionen - und wir haben mit den beiden Funktionen COUNT und DISTINCT auch schon welche benutzt,\n",
        "allerdings auf alle Datensätze der Tabelle. Nun wollen wir jedoch zusammengehörende Datensätze gruppieren und\n",
        "Zwischenwerte bilden. Hierfür verwenden wir den GROUP BY Zusatz, welcher von dem (den) Gruppierungsattribut(en)\n",
        "gefolgt wird. Gruppierungen machen in der Regel nur dann Sinn, wenn man sie in der Ergebnismenge mit einer\n",
        "Aggregatsfunktion kombiniert. Zum Beispiel können wir damit ermitteln, wieviele Länder jeder Region zugeordnet sind."
      ]
    },
    {
      "cell_type": "code",
      "metadata": {
        "id": "4K5r7oHjYEAy"
      },
      "source": [
        "%%sql\n"
      ],
      "execution_count": null,
      "outputs": []
    },
    {
      "cell_type": "markdown",
      "metadata": {
        "id": "QdUGl6FMYHzZ"
      },
      "source": [
        "Wir können auch eine andere Aggregatsfunktion nutzen, zum Beispiel um das durchschnittliche GDP aller Länder je\n",
        "Region zu ermitteln:"
      ]
    },
    {
      "cell_type": "code",
      "metadata": {
        "id": "m0TBzt2vYKQ2"
      },
      "source": [
        "%%sql\n"
      ],
      "execution_count": null,
      "outputs": []
    },
    {
      "cell_type": "markdown",
      "metadata": {
        "id": "w6On_zx6YOjg"
      },
      "source": [
        "Das vorherige Statement sieht noch etwas unschön aus, daher entfernen wir die Dezimalstellen mit Hilfe der ROUND-Funktion, welche den angegebenen Wert auf die angegebene Anzahl an Dezimalstellen rundet. Zudem sortieren wir die\n",
        "Regionen nach ihrem Durchschnitts-GDP in absteigender Reihenfolge:"
      ]
    },
    {
      "cell_type": "code",
      "metadata": {
        "id": "Iy3fv4iZYRPm"
      },
      "source": [
        "%%sql\n"
      ],
      "execution_count": null,
      "outputs": []
    },
    {
      "cell_type": "markdown",
      "metadata": {
        "id": "V3m_aA5QYVW4"
      },
      "source": [
        "Falls wir nur die letzten drei Datensätze wollten, könnten wir dies über das oben eingeführte Schlüsselwort LIMIT in\n",
        "Kombination mit der umgekehrten, also aufsteigenden Sortierreihenfolge erreichen:"
      ]
    },
    {
      "cell_type": "code",
      "metadata": {
        "id": "uSqyYCB4YagP"
      },
      "source": [
        "%%sql\n"
      ],
      "execution_count": null,
      "outputs": []
    },
    {
      "cell_type": "markdown",
      "metadata": {
        "id": "q5-mKFaOYfcB"
      },
      "source": [
        "**BONUS**: \n",
        "\n",
        "Wie oben die kleinsten drei Regionen ermitteln, aber mit absteigender Reihenfolge der Ergebnismenge."
      ]
    },
    {
      "cell_type": "code",
      "metadata": {
        "id": "KwA0g6CiYirk"
      },
      "source": [
        "%%sql\n"
      ],
      "execution_count": null,
      "outputs": []
    },
    {
      "cell_type": "markdown",
      "metadata": {
        "id": "dXxD8LymYoza"
      },
      "source": [
        "Wir haben ja schon gesehen, dass mit der WHERE-Bedingung einzelne Datensätze herausgefiltert werden können.\n",
        "In SQL gibt es zusätzlich die Möglichkeit, bei der Verwendung von Gruppierungen auch ganze Gruppen herauszufiltern. Dies geschieht mit dem HAVING-Zusatz, welcher eine (oder mehrere, miteinander verknüpfte) Bedingung(en)\n",
        "definiert, die auf Gruppen angewendet werden.\n",
        "Beispiel: Sind wir nur an Regionen mit einem durchschnittlichen GDP größer als 10000 USD interessiert, so\n",
        "können wir per HAVING-Bedingung alle anderen Regionen herausfiltern."
      ]
    },
    {
      "cell_type": "code",
      "metadata": {
        "id": "G5BEdVHIYtaN"
      },
      "source": [
        "%%sql\n"
      ],
      "execution_count": null,
      "outputs": []
    },
    {
      "cell_type": "markdown",
      "metadata": {
        "id": "p9slYmsnYzoq"
      },
      "source": [
        "Man kann WHERE und HAVING auch miteinander kombinieren. WHERE filtert einzelnen Datensätze (d.h. vor der\n",
        "Gruppierung), während HAVING ganze Gruppen filtert. Wollen wir zum Beispiel wissen, welche Regionen mindestens\n",
        "fünf Länder mit einer Nettozuwanderung enthalten (d.h. Net Migration ist positiv), so können wir das folgendermaßen\n",
        "formulieren:"
      ]
    },
    {
      "cell_type": "code",
      "metadata": {
        "id": "hkVNpNAuY3LO"
      },
      "source": [
        "%%sql\n"
      ],
      "execution_count": null,
      "outputs": []
    },
    {
      "cell_type": "markdown",
      "metadata": {
        "id": "XCSO6rhpY9J-"
      },
      "source": [
        "**AUFGABE:** \n",
        "\n",
        "Wie würde sich die letzte Abfrage ändern, wenn wir...\n",
        "\n",
        " (a) die WHERE-Bedingung entfernen?\n",
        " \n",
        " (b) die HAVING-Bedingung entfernen?"
      ]
    },
    {
      "cell_type": "markdown",
      "metadata": {
        "id": "pv0ZU018ZE4S"
      },
      "source": [
        "**AUFGABE:**\n",
        "\n",
        "Ermitteln Sie die Summe der Landfläche aller Länder einer Region und sortieren Sie die Ergebnisse in\n",
        "absteigender Reihenfolge"
      ]
    },
    {
      "cell_type": "code",
      "metadata": {
        "id": "5Io4wZ8OZQbB"
      },
      "source": [
        "%%sql\n"
      ],
      "execution_count": null,
      "outputs": []
    },
    {
      "cell_type": "markdown",
      "metadata": {
        "id": "nHJaq1ueZUTr"
      },
      "source": [
        "**AUFGABE:**\n",
        "\n",
        "Ermitteln Sie je Region die Summe der Landfläche aller Länder, die eine Küste haben. Sortieren Sie auch hier\n",
        "in absteigender Reihenfolge."
      ]
    },
    {
      "cell_type": "code",
      "metadata": {
        "id": "2TBT6JvxZZ3l"
      },
      "source": [
        "%%sql\n"
      ],
      "execution_count": null,
      "outputs": []
    },
    {
      "cell_type": "markdown",
      "metadata": {
        "id": "5SjsZD1TZa-I"
      },
      "source": [
        "AUFGABE: Ermitteln Sie für jede Region das Land mit der größten Landfläche, das keine Küste hat. Den größten Wert\n",
        "können Sie mit Hilfe der Aggregatsfunktion MAX() berechnen. Zeigen Sie nur Regionen an, bei denen das größte Land\n",
        "mindestens 1.000.000 (Quadratkilometer) groß ist."
      ]
    },
    {
      "cell_type": "code",
      "metadata": {
        "id": "W7W8c5tAZeEV"
      },
      "source": [
        "%%sql\n"
      ],
      "execution_count": null,
      "outputs": []
    }
  ]
}